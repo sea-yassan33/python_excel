{
 "cells": [
  {
   "cell_type": "markdown",
   "metadata": {},
   "source": [
    "# excelの出力"
   ]
  },
  {
   "cell_type": "code",
   "execution_count": 1,
   "metadata": {},
   "outputs": [],
   "source": [
    "# excelの出力\n",
    "import pandas as pd\n",
    "import sys\n",
    "import os\n",
    "from openpyxl import load_workbook\n",
    "from openpyxl.styles import Font, Border, Side,Alignment\n",
    "sys.path.append(os.path.join(os.getcwd(), \"../00_function\"))\n",
    "import my_func"
   ]
  },
  {
   "cell_type": "code",
   "execution_count": 9,
   "metadata": {},
   "outputs": [],
   "source": [
    "data = {\n",
    "  \"名前\": [\"田中\", \"鈴木\", \"佐藤\"],\n",
    "  \"年齢\": [25, 30, 35],\n",
    "  \"職業\": [\"エンジニア\", \"デザイナー\", \"マネージャー\"]\n",
    "}\n",
    "df = pd.DataFrame(data)"
   ]
  },
  {
   "cell_type": "code",
   "execution_count": 11,
   "metadata": {},
   "outputs": [],
   "source": [
    "wb_path = \"output.xlsx\"\n",
    "ws_name = \"py1\"\n",
    "df.to_excel(wb_path,sheet_name=ws_name, index=False)\n",
    "my_func.write_excel(wb_path, ws_name)"
   ]
  },
  {
   "cell_type": "markdown",
   "metadata": {},
   "source": [
    "## 結果を特定のexcelのcellに貼り付ける"
   ]
  },
  {
   "cell_type": "code",
   "execution_count": null,
   "metadata": {},
   "outputs": [],
   "source": [
    "# データフレーム作成\n",
    "data = {\n",
    "    \"担当\": [\"田中\", \"佐藤\", \"田中\", \"鈴木\", \"佐藤\"],\n",
    "    \"商品名\": [\"A\", \"B\", \"C\", \"D\", \"E\"],\n",
    "    \"金額\": [1000, 2000, 3000, 4000, 5000]\n",
    "}\n",
    "df = pd.DataFrame(data)\n",
    "# 担当ごとの合計金額を算出\n",
    "df_summary = df.groupby(\"担当\")[\"金額\"].sum().reset_index()\n",
    "# Excelファイルに出力\n",
    "wb_path = \"output.xlsx\"\n",
    "ws_name = \"py1\"\n",
    "try:\n",
    "  wb = load_workbook(wb_path)\n",
    "except FileNotFoundError:\n",
    "  print(\"ファイルが見つかりません\")\n",
    "  pass\n",
    "# シートが存在しない場合は新規作成\n",
    "if ws_name not in wb.sheetnames:\n",
    "    wb.create_sheet(ws_name)\n",
    "ws = wb[ws_name]\n",
    "# E5 から開始\n",
    "start_row = 5  # 5行目\n",
    "start_col = 5  # E列\n",
    "# ヘッダー部分を設定\n",
    "header_titles = [\"担当\", \"合計金額\"]\n",
    "# ヘッダーを出力\n",
    "for col, title in enumerate(header_titles, start=start_col):\n",
    "    ws.cell(row=start_row, column=col, value=title).font = Font(bold=True)\n",
    "# 担当と合計金額を出力\n",
    "for i, row in enumerate(df_summary.itertuples(), start=start_row+1):\n",
    "    ws.cell(row=i, column=start_col, value=row.担当)  # 担当名\n",
    "    ws.cell(row=i, column=start_col + 1, value=row.金額)  # 合計金額\n",
    "# excelを保存\n",
    "wb.save(wb_path)"
   ]
  },
  {
   "cell_type": "code",
   "execution_count": 2,
   "metadata": {},
   "outputs": [
    {
     "name": "stdout",
     "output_type": "stream",
     "text": [
      "データが output.xlsx に保存されました。\n"
     ]
    }
   ],
   "source": [
    "# データフレーム作成\n",
    "data = {\n",
    "    \"担当\": [\"田中\", \"佐藤\", \"田中\", \"鈴木\", \"佐藤\"],\n",
    "    \"商品名\": [\"A\", \"B\", \"C\", \"D\", \"E\"],\n",
    "    \"金額\": [1000, 2000, 3000, 4000, 5000]\n",
    "}\n",
    "df = pd.DataFrame(data)\n",
    "# 担当ごとの合計金額を算出\n",
    "df_summary = df.groupby(\"担当\")[\"金額\"].sum().reset_index()\n",
    "# Excelファイルに出力\n",
    "wb_path = \"output.xlsx\"\n",
    "ws_name = \"py1\"\n",
    "start_row = 5  # 5行目\n",
    "start_col = 5  # E列\n",
    "my_func.write_dataframe_to_excel(df_summary,wb_path)"
   ]
  }
 ],
 "metadata": {
  "kernelspec": {
   "display_name": "Python 3",
   "language": "python",
   "name": "python3"
  },
  "language_info": {
   "codemirror_mode": {
    "name": "ipython",
    "version": 3
   },
   "file_extension": ".py",
   "mimetype": "text/x-python",
   "name": "python",
   "nbconvert_exporter": "python",
   "pygments_lexer": "ipython3",
   "version": "3.10.11"
  }
 },
 "nbformat": 4,
 "nbformat_minor": 2
}
