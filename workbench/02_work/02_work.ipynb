{
 "cells": [
  {
   "cell_type": "markdown",
   "metadata": {},
   "source": [
    "## DB接続\n",
    "\n",
    "```sh\n",
    "pip install mysql-connector-python\n",
    "```"
   ]
  },
  {
   "cell_type": "code",
   "execution_count": 1,
   "metadata": {},
   "outputs": [],
   "source": [
    "import warnings\n",
    "warnings.filterwarnings(\"ignore\", category=UserWarning)\n",
    "import os\n",
    "import sys\n",
    "import mysql.connector\n",
    "import numpy as np\n",
    "import pandas as pd\n",
    "from dotenv import load_dotenv\n",
    "sys.path.append(os.path.join(os.getcwd(), \"../00_function\"))\n",
    "import my_func\n",
    "## .envファイル読込み\n",
    "load_dotenv()\n",
    "user_name = os.environ[\"NAME\"]\n",
    "user_pw= os.environ[\"PW\"]\n",
    "terget_db = \"py_db\"\n",
    "## タプル変換用　st.join(x)\n",
    "st=''"
   ]
  },
  {
   "cell_type": "code",
   "execution_count": 5,
   "metadata": {},
   "outputs": [
    {
     "name": "stdout",
     "output_type": "stream",
     "text": [
      "<mysql.connector.connection_cext.CMySQLConnection object at 0x1056e10c0>\n"
     ]
    }
   ],
   "source": [
    "## データベース接続    \n",
    "mydb = mysql.connector.connect(host=\"localhost\",user=user_name,password=user_pw,database=terget_db)\n",
    "print(mydb)"
   ]
  },
  {
   "cell_type": "code",
   "execution_count": 4,
   "metadata": {},
   "outputs": [
    {
     "name": "stdout",
     "output_type": "stream",
     "text": [
      "['customers']\n"
     ]
    }
   ],
   "source": [
    "## データベースの確認  \n",
    "mydb = mysql.connector.connect(host=\"localhost\",user=user_name,password=user_pw,database=terget_db)\n",
    "mycursor = mydb.cursor()\n",
    "mycursor.execute(\"SHOW TABLES\")\n",
    "result_list = []\n",
    "for x in mycursor:\n",
    "  result_list.append(st.join(x))\n",
    "print(result_list)"
   ]
  },
  {
   "cell_type": "code",
   "execution_count": 3,
   "metadata": {},
   "outputs": [
    {
     "data": {
      "text/html": [
       "<div>\n",
       "<style scoped>\n",
       "    .dataframe tbody tr th:only-of-type {\n",
       "        vertical-align: middle;\n",
       "    }\n",
       "\n",
       "    .dataframe tbody tr th {\n",
       "        vertical-align: top;\n",
       "    }\n",
       "\n",
       "    .dataframe thead th {\n",
       "        text-align: right;\n",
       "    }\n",
       "</style>\n",
       "<table border=\"1\" class=\"dataframe\">\n",
       "  <thead>\n",
       "    <tr style=\"text-align: right;\">\n",
       "      <th></th>\n",
       "      <th>id</th>\n",
       "      <th>name</th>\n",
       "      <th>address</th>\n",
       "    </tr>\n",
       "  </thead>\n",
       "  <tbody>\n",
       "    <tr>\n",
       "      <th>0</th>\n",
       "      <td>1</td>\n",
       "      <td>John</td>\n",
       "      <td>Highway 21</td>\n",
       "    </tr>\n",
       "    <tr>\n",
       "      <th>1</th>\n",
       "      <td>2</td>\n",
       "      <td>Peter</td>\n",
       "      <td>Lowstreet 4</td>\n",
       "    </tr>\n",
       "    <tr>\n",
       "      <th>2</th>\n",
       "      <td>3</td>\n",
       "      <td>Amy</td>\n",
       "      <td>Apple st 652</td>\n",
       "    </tr>\n",
       "    <tr>\n",
       "      <th>3</th>\n",
       "      <td>4</td>\n",
       "      <td>Hannah</td>\n",
       "      <td>Mountain 21</td>\n",
       "    </tr>\n",
       "    <tr>\n",
       "      <th>4</th>\n",
       "      <td>5</td>\n",
       "      <td>Michael</td>\n",
       "      <td>Valley 345</td>\n",
       "    </tr>\n",
       "    <tr>\n",
       "      <th>5</th>\n",
       "      <td>6</td>\n",
       "      <td>Sandy</td>\n",
       "      <td>Ocean blvd 2</td>\n",
       "    </tr>\n",
       "    <tr>\n",
       "      <th>6</th>\n",
       "      <td>7</td>\n",
       "      <td>Betty</td>\n",
       "      <td>Green Grass 1</td>\n",
       "    </tr>\n",
       "    <tr>\n",
       "      <th>7</th>\n",
       "      <td>8</td>\n",
       "      <td>Richard</td>\n",
       "      <td>Sky st 331</td>\n",
       "    </tr>\n",
       "    <tr>\n",
       "      <th>8</th>\n",
       "      <td>9</td>\n",
       "      <td>Susan</td>\n",
       "      <td>One way 98</td>\n",
       "    </tr>\n",
       "    <tr>\n",
       "      <th>9</th>\n",
       "      <td>10</td>\n",
       "      <td>Vicky</td>\n",
       "      <td>Yellow Garden 2</td>\n",
       "    </tr>\n",
       "    <tr>\n",
       "      <th>10</th>\n",
       "      <td>11</td>\n",
       "      <td>Ben</td>\n",
       "      <td>Park Lane 38</td>\n",
       "    </tr>\n",
       "    <tr>\n",
       "      <th>11</th>\n",
       "      <td>12</td>\n",
       "      <td>William</td>\n",
       "      <td>Central st 954</td>\n",
       "    </tr>\n",
       "    <tr>\n",
       "      <th>12</th>\n",
       "      <td>13</td>\n",
       "      <td>Chuck</td>\n",
       "      <td>Main Road 989</td>\n",
       "    </tr>\n",
       "    <tr>\n",
       "      <th>13</th>\n",
       "      <td>14</td>\n",
       "      <td>Viola</td>\n",
       "      <td>Sideway 1633</td>\n",
       "    </tr>\n",
       "    <tr>\n",
       "      <th>14</th>\n",
       "      <td>15</td>\n",
       "      <td>Michelle</td>\n",
       "      <td>Blue Village</td>\n",
       "    </tr>\n",
       "  </tbody>\n",
       "</table>\n",
       "</div>"
      ],
      "text/plain": [
       "    id      name          address\n",
       "0    1      John       Highway 21\n",
       "1    2     Peter      Lowstreet 4\n",
       "2    3       Amy     Apple st 652\n",
       "3    4    Hannah      Mountain 21\n",
       "4    5   Michael       Valley 345\n",
       "5    6     Sandy     Ocean blvd 2\n",
       "6    7     Betty    Green Grass 1\n",
       "7    8   Richard       Sky st 331\n",
       "8    9     Susan       One way 98\n",
       "9   10     Vicky  Yellow Garden 2\n",
       "10  11       Ben     Park Lane 38\n",
       "11  12   William   Central st 954\n",
       "12  13     Chuck    Main Road 989\n",
       "13  14     Viola     Sideway 1633\n",
       "14  15  Michelle     Blue Village"
      ]
     },
     "execution_count": 3,
     "metadata": {},
     "output_type": "execute_result"
    }
   ],
   "source": [
    "## \"customers\" テーブルからすべてのレコードを選択し、結果を表示(df)\n",
    "mydb = mysql.connector.connect(host=\"localhost\",user=user_name,password=user_pw,database=terget_db)\n",
    "sql = \"SELECT * FROM {table_name}\".format(table_name=\"customers\")\n",
    "# pandas でMySQLテーブルを読む\n",
    "df_read = pd.read_sql(sql, mydb)\n",
    "df_read"
   ]
  },
  {
   "cell_type": "code",
   "execution_count": 4,
   "metadata": {},
   "outputs": [
    {
     "name": "stdout",
     "output_type": "stream",
     "text": [
      "データが output.xlsx に保存されました。\n"
     ]
    }
   ],
   "source": [
    "wb_path = \"output.xlsx\"\n",
    "my_func.write_dataframe_to_excel(df_read,wb_path)\n",
    "my_func.write_excel(wb_path,'sheet_py')"
   ]
  }
 ],
 "metadata": {
  "kernelspec": {
   "display_name": "Python 3",
   "language": "python",
   "name": "python3"
  },
  "language_info": {
   "codemirror_mode": {
    "name": "ipython",
    "version": 3
   },
   "file_extension": ".py",
   "mimetype": "text/x-python",
   "name": "python",
   "nbconvert_exporter": "python",
   "pygments_lexer": "ipython3",
   "version": "3.10.11"
  }
 },
 "nbformat": 4,
 "nbformat_minor": 2
}
